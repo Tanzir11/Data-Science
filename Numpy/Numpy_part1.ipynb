{
 "cells": [
  {
   "cell_type": "markdown",
   "id": "aef229bb",
   "metadata": {},
   "source": [
    "# Numpy Arrays"
   ]
  },
  {
   "cell_type": "code",
   "execution_count": 1,
   "id": "937dd1a7",
   "metadata": {},
   "outputs": [
    {
     "data": {
      "text/plain": [
       "numpy.ndarray"
      ]
     },
     "execution_count": 1,
     "metadata": {},
     "output_type": "execute_result"
    }
   ],
   "source": [
    "import numpy as np\n",
    "type(np.array([\"Tanzir\", 2, 3]))\n",
    "# data type has changed from the list to an array\n",
    "# also ndarray stands for n dimensional array"
   ]
  },
  {
   "cell_type": "markdown",
   "id": "72115512",
   "metadata": {},
   "source": [
    "# Upcasting"
   ]
  },
  {
   "cell_type": "code",
   "execution_count": 2,
   "id": "b75d755a",
   "metadata": {},
   "outputs": [
    {
     "data": {
      "text/plain": [
       "array([1., 2., 3.])"
      ]
     },
     "execution_count": 2,
     "metadata": {},
     "output_type": "execute_result"
    }
   ],
   "source": [
    "np.array([1,2,3.0])\n",
    "# 2 elements were integer and one was float but after using array it made all of them a float element"
   ]
  },
  {
   "cell_type": "markdown",
   "id": "d1e6d878",
   "metadata": {},
   "source": [
    "# Two Dimensions"
   ]
  },
  {
   "cell_type": "code",
   "execution_count": 3,
   "id": "6bc68588",
   "metadata": {},
   "outputs": [
    {
     "data": {
      "text/plain": [
       "array([[1, 2, 3],\n",
       "       [4, 5, 6]])"
      ]
     },
     "execution_count": 3,
     "metadata": {},
     "output_type": "execute_result"
    }
   ],
   "source": [
    "np.array([[1,2,3],\n",
    "          [4,5,6]])"
   ]
  },
  {
   "cell_type": "code",
   "execution_count": 4,
   "id": "63c5bc6d",
   "metadata": {},
   "outputs": [
    {
     "data": {
      "text/plain": [
       "array([[[[[1, 2, 3]]]]])"
      ]
     },
     "execution_count": 4,
     "metadata": {},
     "output_type": "execute_result"
    }
   ],
   "source": [
    "np.array([1,2,3], ndmin=5) #ndmin stands for number of minimum dimensions"
   ]
  },
  {
   "cell_type": "code",
   "execution_count": 5,
   "id": "4796f4e8",
   "metadata": {},
   "outputs": [],
   "source": [
    "# dtype"
   ]
  },
  {
   "cell_type": "code",
   "execution_count": 6,
   "id": "95f27e33",
   "metadata": {},
   "outputs": [
    {
     "data": {
      "text/plain": [
       "array([1.+0.j, 2.+0.j, 3.+0.j])"
      ]
     },
     "execution_count": 6,
     "metadata": {},
     "output_type": "execute_result"
    }
   ],
   "source": [
    "np.array([1,2,3],dtype=complex)"
   ]
  },
  {
   "cell_type": "code",
   "execution_count": 7,
   "id": "9bc83fbd",
   "metadata": {},
   "outputs": [
    {
     "data": {
      "text/plain": [
       "array([[1, 0],\n",
       "       [3, 4]])"
      ]
     },
     "execution_count": 7,
     "metadata": {},
     "output_type": "execute_result"
    }
   ],
   "source": [
    "random_array = np.array([(1,0),\n",
    "                       (3,4)])\n",
    "random_array"
   ]
  },
  {
   "cell_type": "markdown",
   "id": "c9168e8c",
   "metadata": {},
   "source": [
    "**In above numpy array the location of 1 is (0,0) and that of 0 is (0,1) and that of 3 is (1,0) and that of 4 is (1,1)**"
   ]
  },
  {
   "cell_type": "markdown",
   "id": "98662f36",
   "metadata": {},
   "source": [
    "### Now i am going to access the data from the numpy array that i have already made."
   ]
  },
  {
   "cell_type": "code",
   "execution_count": 8,
   "id": "14a782be",
   "metadata": {},
   "outputs": [
    {
     "data": {
      "text/plain": [
       "1"
      ]
     },
     "execution_count": 8,
     "metadata": {},
     "output_type": "execute_result"
    }
   ],
   "source": [
    "random_array[0][0]"
   ]
  },
  {
   "cell_type": "code",
   "execution_count": 9,
   "id": "99040164",
   "metadata": {},
   "outputs": [
    {
     "data": {
      "text/plain": [
       "0"
      ]
     },
     "execution_count": 9,
     "metadata": {},
     "output_type": "execute_result"
    }
   ],
   "source": [
    "random_array[0][1]"
   ]
  },
  {
   "cell_type": "code",
   "execution_count": 10,
   "id": "5f8a29bf",
   "metadata": {},
   "outputs": [
    {
     "data": {
      "text/plain": [
       "4"
      ]
     },
     "execution_count": 10,
     "metadata": {},
     "output_type": "execute_result"
    }
   ],
   "source": [
    "random_array[1][1]"
   ]
  },
  {
   "cell_type": "code",
   "execution_count": 11,
   "id": "e24ed3d3",
   "metadata": {},
   "outputs": [
    {
     "data": {
      "text/plain": [
       "3"
      ]
     },
     "execution_count": 11,
     "metadata": {},
     "output_type": "execute_result"
    }
   ],
   "source": [
    "random_array[1][0]"
   ]
  },
  {
   "cell_type": "code",
   "execution_count": 12,
   "id": "1bccb66b",
   "metadata": {},
   "outputs": [],
   "source": [
    "# Below we're trying to map one variable with other so in (1,2) 1 is a and 2 is b similarly in (3,4) 3 is a and 4 is b"
   ]
  },
  {
   "cell_type": "code",
   "execution_count": 13,
   "id": "23f0ed98",
   "metadata": {},
   "outputs": [
    {
     "data": {
      "text/plain": [
       "array([(1, 2), (3, 4)], dtype=[('a', '<i2'), ('b', '<i8')])"
      ]
     },
     "execution_count": 13,
     "metadata": {},
     "output_type": "execute_result"
    }
   ],
   "source": [
    "x = np.array([(1,2),(3,4)], dtype = [('a', '<i2'), ('b', '<i8')])\n",
    "x"
   ]
  },
  {
   "cell_type": "code",
   "execution_count": 14,
   "id": "78432db6",
   "metadata": {},
   "outputs": [
    {
     "data": {
      "text/plain": [
       "3"
      ]
     },
     "execution_count": 14,
     "metadata": {},
     "output_type": "execute_result"
    }
   ],
   "source": [
    "# Again we'll extract the data from above numpy array\n",
    "x[1][0]"
   ]
  },
  {
   "cell_type": "code",
   "execution_count": 15,
   "id": "e6a6cf3c",
   "metadata": {
    "scrolled": true
   },
   "outputs": [
    {
     "data": {
      "text/plain": [
       "numpy.int16"
      ]
     },
     "execution_count": 15,
     "metadata": {},
     "output_type": "execute_result"
    }
   ],
   "source": [
    "type(x[1][0])"
   ]
  },
  {
   "cell_type": "markdown",
   "id": "9f775035",
   "metadata": {},
   "source": [
    "The data type present on the x cordinate will be **int16** as i can see and it's because of **dtype = [('a', '<i2'), ('b', '<i8')]**"
   ]
  },
  {
   "cell_type": "code",
   "execution_count": 16,
   "id": "48544901",
   "metadata": {},
   "outputs": [
    {
     "data": {
      "text/plain": [
       "numpy.int64"
      ]
     },
     "execution_count": 16,
     "metadata": {},
     "output_type": "execute_result"
    }
   ],
   "source": [
    "type(x[0][1])"
   ]
  },
  {
   "cell_type": "markdown",
   "id": "9affd3b5",
   "metadata": {},
   "source": [
    "The data type present on the y coordinate will be **int64** as i can this and this is because of **dtype = [('a', '<i2'), ('b', '<i8')]**"
   ]
  },
  {
   "cell_type": "markdown",
   "id": "5c2ab6bc",
   "metadata": {},
   "source": [
    "If i change the vaule as **i4** in **('b','<i8')** it will change the type of the values as well"
   ]
  },
  {
   "cell_type": "markdown",
   "id": "8b8dd1ba",
   "metadata": {},
   "source": [
    "# Matrices"
   ]
  },
  {
   "cell_type": "markdown",
   "id": "0303e216",
   "metadata": {},
   "source": [
    "Matrix is another data type in terms of a numpy it's a subset of array."
   ]
  },
  {
   "cell_type": "code",
   "execution_count": 17,
   "id": "7c519b4e",
   "metadata": {},
   "outputs": [],
   "source": [
    "matix = np.mat(np.array([[1,2],[4,7]]))"
   ]
  },
  {
   "cell_type": "code",
   "execution_count": 18,
   "id": "52304ec0",
   "metadata": {},
   "outputs": [
    {
     "data": {
      "text/plain": [
       "numpy.matrix"
      ]
     },
     "execution_count": 18,
     "metadata": {},
     "output_type": "execute_result"
    }
   ],
   "source": [
    "type(matix)"
   ]
  },
  {
   "cell_type": "markdown",
   "id": "c9f30c83",
   "metadata": {},
   "source": [
    "I can even pass string and in output get matrix as an output"
   ]
  },
  {
   "cell_type": "code",
   "execution_count": 19,
   "id": "e4e9bfc6",
   "metadata": {},
   "outputs": [
    {
     "data": {
      "text/plain": [
       "matrix([[1, 2],\n",
       "        [3, 4]])"
      ]
     },
     "execution_count": 19,
     "metadata": {},
     "output_type": "execute_result"
    }
   ],
   "source": [
    "np.mat('1 2; 3 4')"
   ]
  },
  {
   "cell_type": "code",
   "execution_count": 20,
   "id": "64c4401e",
   "metadata": {},
   "outputs": [
    {
     "data": {
      "text/plain": [
       "matrix([[1, 2]])"
      ]
     },
     "execution_count": 20,
     "metadata": {},
     "output_type": "execute_result"
    }
   ],
   "source": [
    "# I can also convert list into a matrix\n",
    "np.mat([1,2])"
   ]
  },
  {
   "cell_type": "code",
   "execution_count": 21,
   "id": "16cb95d7",
   "metadata": {},
   "outputs": [
    {
     "data": {
      "text/plain": [
       "matrix([[1, 2],\n",
       "        [3, 4]])"
      ]
     },
     "execution_count": 21,
     "metadata": {},
     "output_type": "execute_result"
    }
   ],
   "source": [
    "# Now i will be passing list of list\n",
    "np.mat([[1,2],[3,4]])"
   ]
  },
  {
   "cell_type": "markdown",
   "id": "d84974cb",
   "metadata": {},
   "source": [
    "# numpy.asarray"
   ]
  },
  {
   "cell_type": "code",
   "execution_count": 22,
   "id": "0d01c2b9",
   "metadata": {},
   "outputs": [
    {
     "data": {
      "text/plain": [
       "list"
      ]
     },
     "execution_count": 22,
     "metadata": {},
     "output_type": "execute_result"
    }
   ],
   "source": [
    "# here we have a list\n",
    "a = [1,2]\n",
    "type(a)"
   ]
  },
  {
   "cell_type": "code",
   "execution_count": 23,
   "id": "928186f2",
   "metadata": {},
   "outputs": [
    {
     "data": {
      "text/plain": [
       "numpy.ndarray"
      ]
     },
     "execution_count": 23,
     "metadata": {},
     "output_type": "execute_result"
    }
   ],
   "source": [
    "# Here we're converting our list as a numpy array\n",
    "type(np.asarray(a))"
   ]
  },
  {
   "cell_type": "code",
   "execution_count": 24,
   "id": "b93049d1",
   "metadata": {},
   "outputs": [
    {
     "data": {
      "text/plain": [
       "[[1, 2], [3, 4]]"
      ]
     },
     "execution_count": 24,
     "metadata": {},
     "output_type": "execute_result"
    }
   ],
   "source": [
    "#Similarly\n",
    "b = [[1,2],[3,4]]\n",
    "b"
   ]
  },
  {
   "cell_type": "code",
   "execution_count": 25,
   "id": "810876cf",
   "metadata": {},
   "outputs": [
    {
     "data": {
      "text/plain": [
       "numpy.ndarray"
      ]
     },
     "execution_count": 25,
     "metadata": {},
     "output_type": "execute_result"
    }
   ],
   "source": [
    "type(np.asarray(b))"
   ]
  },
  {
   "cell_type": "code",
   "execution_count": 26,
   "id": "9746ad53",
   "metadata": {},
   "outputs": [],
   "source": [
    "# Both numpy array and numpy asarray try to convert the data into an array"
   ]
  },
  {
   "cell_type": "code",
   "execution_count": 27,
   "id": "dc457f34",
   "metadata": {},
   "outputs": [
    {
     "data": {
      "text/plain": [
       "array([1., 2.], dtype=float32)"
      ]
     },
     "execution_count": 27,
     "metadata": {},
     "output_type": "execute_result"
    }
   ],
   "source": [
    "# As we have converted our data in numpy array we would easily be able to do the same in numpy asarray as well\n",
    "a = np.array([1,2], dtype=np.float32)\n",
    "a"
   ]
  },
  {
   "cell_type": "code",
   "execution_count": 28,
   "id": "a7abb27e",
   "metadata": {},
   "outputs": [
    {
     "data": {
      "text/plain": [
       "False"
      ]
     },
     "execution_count": 28,
     "metadata": {},
     "output_type": "execute_result"
    }
   ],
   "source": [
    "np.asarray([1,2]) is a"
   ]
  },
  {
   "cell_type": "markdown",
   "id": "c6410619",
   "metadata": {},
   "source": [
    "The function below is not usefull at all it's used for comparison only "
   ]
  },
  {
   "cell_type": "code",
   "execution_count": 29,
   "id": "311ec46a",
   "metadata": {},
   "outputs": [
    {
     "data": {
      "text/plain": [
       "True"
      ]
     },
     "execution_count": 29,
     "metadata": {},
     "output_type": "execute_result"
    }
   ],
   "source": [
    "issubclass(np.matrix, np.ndarray)"
   ]
  },
  {
   "cell_type": "code",
   "execution_count": 30,
   "id": "cd94dc5d",
   "metadata": {},
   "outputs": [
    {
     "data": {
      "text/plain": [
       "False"
      ]
     },
     "execution_count": 30,
     "metadata": {},
     "output_type": "execute_result"
    }
   ],
   "source": [
    "issubclass(np.ndarray,np.matrix)"
   ]
  },
  {
   "cell_type": "markdown",
   "id": "90680699",
   "metadata": {},
   "source": [
    "so matrix is a sub class of numpy array but numpy array is not a subclass of matrix"
   ]
  },
  {
   "cell_type": "markdown",
   "id": "4af03076",
   "metadata": {},
   "source": [
    "# asanyarray()"
   ]
  },
  {
   "cell_type": "code",
   "execution_count": 31,
   "id": "d4b5edff",
   "metadata": {},
   "outputs": [
    {
     "data": {
      "text/plain": [
       "numpy.ndarray"
      ]
     },
     "execution_count": 31,
     "metadata": {},
     "output_type": "execute_result"
    }
   ],
   "source": [
    "a = [1,2]\n",
    "np.asanyarray(a)\n",
    "type(np.asanyarray(a))"
   ]
  },
  {
   "cell_type": "markdown",
   "id": "7b557b6a",
   "metadata": {},
   "source": [
    "My original list has been converted as an ndarray"
   ]
  },
  {
   "cell_type": "code",
   "execution_count": 32,
   "id": "2fbe9557",
   "metadata": {},
   "outputs": [
    {
     "data": {
      "text/plain": [
       "matrix([[1, 2]])"
      ]
     },
     "execution_count": 32,
     "metadata": {},
     "output_type": "execute_result"
    }
   ],
   "source": [
    "a = np.matrix([[1,2]])\n",
    "np.asanyarray(a)"
   ]
  },
  {
   "cell_type": "code",
   "execution_count": 33,
   "id": "626f7dbb",
   "metadata": {},
   "outputs": [
    {
     "data": {
      "text/plain": [
       "matrix([[1, 2]])"
      ]
     },
     "execution_count": 33,
     "metadata": {},
     "output_type": "execute_result"
    }
   ],
   "source": [
    "a = np.matrix([1,2])\n",
    "a"
   ]
  },
  {
   "cell_type": "markdown",
   "id": "a9021bee",
   "metadata": {},
   "source": [
    "Now i have a matrix and matrix is already a subclss of array so it will not convert the matrix into an array "
   ]
  },
  {
   "cell_type": "code",
   "execution_count": 34,
   "id": "6f60d171",
   "metadata": {},
   "outputs": [
    {
     "data": {
      "text/plain": [
       "True"
      ]
     },
     "execution_count": 34,
     "metadata": {},
     "output_type": "execute_result"
    }
   ],
   "source": [
    "# Here is the proff of above statement mu np.asanyarray is same as my matrix array\n",
    "np.asanyarray(a) is a"
   ]
  },
  {
   "cell_type": "code",
   "execution_count": 35,
   "id": "e1665577",
   "metadata": {},
   "outputs": [
    {
     "data": {
      "text/plain": [
       "numpy.ndarray"
      ]
     },
     "execution_count": 35,
     "metadata": {},
     "output_type": "execute_result"
    }
   ],
   "source": [
    "# But if i write np.array(a) or np.asarray() it will convert my matrixes into an array but .asanyarray(a) wont do that\n",
    "type(np.array(a))"
   ]
  },
  {
   "cell_type": "code",
   "execution_count": 36,
   "id": "dd03014c",
   "metadata": {},
   "outputs": [
    {
     "data": {
      "text/plain": [
       "numpy.ndarray"
      ]
     },
     "execution_count": 36,
     "metadata": {},
     "output_type": "execute_result"
    }
   ],
   "source": [
    "type(np.asarray(a))"
   ]
  },
  {
   "cell_type": "markdown",
   "id": "1c7d9b6c",
   "metadata": {},
   "source": [
    "So remember\n",
    "* np.array(a)\n",
    "* np.asarray(a)  # will convert any metrixes in any array\n",
    "* np.asanyarray(a) # won't convert any matrixes as any array"
   ]
  },
  {
   "cell_type": "markdown",
   "id": "23ba9661",
   "metadata": {},
   "source": [
    "# numpy.copy"
   ]
  },
  {
   "cell_type": "code",
   "execution_count": 37,
   "id": "c874f590",
   "metadata": {},
   "outputs": [
    {
     "data": {
      "text/plain": [
       "array([[1, 2]])"
      ]
     },
     "execution_count": 37,
     "metadata": {},
     "output_type": "execute_result"
    }
   ],
   "source": [
    "np.array(a, copy=True)"
   ]
  },
  {
   "cell_type": "code",
   "execution_count": 38,
   "id": "bdd39a6c",
   "metadata": {},
   "outputs": [
    {
     "data": {
      "text/plain": [
       "array([1, 2, 3])"
      ]
     },
     "execution_count": 38,
     "metadata": {},
     "output_type": "execute_result"
    }
   ],
   "source": [
    "x = np.array([1,2,3])\n",
    "x"
   ]
  },
  {
   "cell_type": "code",
   "execution_count": null,
   "id": "0c2f22d1",
   "metadata": {},
   "outputs": [],
   "source": []
  },
  {
   "cell_type": "code",
   "execution_count": 39,
   "id": "46a0cd12",
   "metadata": {},
   "outputs": [
    {
     "data": {
      "text/plain": [
       "array([1, 2, 3])"
      ]
     },
     "execution_count": 39,
     "metadata": {},
     "output_type": "execute_result"
    }
   ],
   "source": [
    "y = x\n",
    "y"
   ]
  },
  {
   "cell_type": "markdown",
   "id": "9516d4ae",
   "metadata": {},
   "source": [
    "we had an numpy array called x that had some value then we said that y=x so what happened in the backend is that in the internal memory y was not alloted it's own space but it was meearly pointing towards the direction of x. so if i do some manipulation in x that manipulation will be refrected in y as well and vice versa"
   ]
  },
  {
   "cell_type": "code",
   "execution_count": 40,
   "id": "3b44870c",
   "metadata": {},
   "outputs": [
    {
     "name": "stdout",
     "output_type": "stream",
     "text": [
      "The original value of y[1] is: 2\n",
      " The new value of at the location y[1]: 3223424 and the y array is like [      1 3223424       3]\n",
      "The value of x at the 1st index is: 3223424 and the new x array is like [      1 3223424       3]\n"
     ]
    }
   ],
   "source": [
    "# So initially the value of y at location 1 was 2\n",
    "print(f\"The original value of y[1] is: {y[1]}\")\n",
    "# Now\n",
    "y[1]=3223424\n",
    "print(f\" The new value of at the location y[1]: {y[1]} and the y array is like {y}\")\n",
    "print(f\"The value of x at the 1st index is: {x[1]} and the new x array is like {x}\")"
   ]
  },
  {
   "cell_type": "markdown",
   "id": "c09b5a5d",
   "metadata": {},
   "source": [
    "So i can clearly see the values have been in the x as well even though the manipulation i did was on y only **this manipulation will work the other way around as well**"
   ]
  },
  {
   "cell_type": "code",
   "execution_count": 41,
   "id": "a9d15866",
   "metadata": {},
   "outputs": [
    {
     "data": {
      "text/plain": [
       "array([      1, 3223424,       3])"
      ]
     },
     "execution_count": 41,
     "metadata": {},
     "output_type": "execute_result"
    }
   ],
   "source": [
    "z = np.copy(x)\n",
    "z"
   ]
  },
  {
   "cell_type": "code",
   "execution_count": null,
   "id": "05727744",
   "metadata": {},
   "outputs": [],
   "source": []
  },
  {
   "cell_type": "code",
   "execution_count": 42,
   "id": "ab75e3c5",
   "metadata": {},
   "outputs": [
    {
     "name": "stdout",
     "output_type": "stream",
     "text": [
      "The original value of y[1] is: 3223424\n",
      " The new value of at the location y[1]: 111 and the y array is like [  1 111   3]\n",
      "The value of x at the 1st index is: 3223424 and the new x array is like [      1 3223424       3]\n"
     ]
    }
   ],
   "source": [
    "# So initially the value of y at location 1 was 2\n",
    "print(f\"The original value of y[1] is: {x[1]}\")\n",
    "# Now\n",
    "z[1] = 111\n",
    "print(f\" The new value of at the location y[1]: {z[1]} and the y array is like {z}\")\n",
    "print(f\"The value of x at the 1st index is: {x[1]} and the new x array is like {x}\")"
   ]
  },
  {
   "cell_type": "markdown",
   "id": "e45ee9e8",
   "metadata": {},
   "source": [
    "Now i can clearly see that the value of x did not changed even though i made some changes on x this is because the .copy() alots a different set of memory and it's not pointing in the same direction which is what happened in the previous scenarion"
   ]
  },
  {
   "cell_type": "markdown",
   "id": "ad23b2e9",
   "metadata": {},
   "source": [
    "np.copy() is a function that creates a **deep copy operation** of the function while when we do w=z it created a **swallow copy operation**"
   ]
  },
  {
   "cell_type": "markdown",
   "id": "98b774bb",
   "metadata": {},
   "source": [
    "# Answers of the questions\n",
    "* **np.mat and np.matrix are both same**\n",
    "* **Array is available in numpy package while list is not available in numpy package which is why they are different in the context of the numpy**"
   ]
  },
  {
   "cell_type": "markdown",
   "id": "c3591b0b",
   "metadata": {},
   "source": [
    "# **NUMPY numpy.fromfunction()**"
   ]
  },
  {
   "cell_type": "markdown",
   "id": "357a611c",
   "metadata": {},
   "source": [
    "**lambda function:** It's an anonymous function that takes parameters and perform some tasks"
   ]
  },
  {
   "cell_type": "code",
   "execution_count": 43,
   "id": "548c4fc8",
   "metadata": {},
   "outputs": [
    {
     "data": {
      "text/plain": [
       "array([[ True, False, False],\n",
       "       [False,  True, False],\n",
       "       [False, False,  True]])"
      ]
     },
     "execution_count": 43,
     "metadata": {},
     "output_type": "execute_result"
    }
   ],
   "source": [
    "np.fromfunction(lambda i, j: i==j, (3,3), dtype=int) # here lambda function is taking two inputs and checking if i==j or not.\n",
    "#REMEMBER i AND j THE VALUES OF THE INDEXES FOR A 3x3 MATRIX"
   ]
  },
  {
   "cell_type": "code",
   "execution_count": 44,
   "id": "48ac6f92",
   "metadata": {},
   "outputs": [
    {
     "data": {
      "text/plain": [
       "array([[[0, 0, 0],\n",
       "        [0, 0, 0],\n",
       "        [0, 0, 0]],\n",
       "\n",
       "       [[0, 0, 0],\n",
       "        [0, 1, 2],\n",
       "        [0, 2, 4]],\n",
       "\n",
       "       [[0, 0, 0],\n",
       "        [0, 2, 4],\n",
       "        [0, 4, 8]]])"
      ]
     },
     "execution_count": 44,
     "metadata": {},
     "output_type": "execute_result"
    }
   ],
   "source": [
    "np.fromfunction(lambda i,j,k: i*j*k, (3,3,3), dtype=int) # This used the same logic as from above and gives an output but in 3 dimensional array"
   ]
  },
  {
   "cell_type": "markdown",
   "id": "292709b7",
   "metadata": {},
   "source": [
    "and just like me moved from 2 to 3 we can go from any dimensions for the representation purposes"
   ]
  },
  {
   "cell_type": "code",
   "execution_count": 45,
   "id": "2e36a9cb",
   "metadata": {},
   "outputs": [
    {
     "data": {
      "text/plain": [
       "array([[[[ 0,  0,  0],\n",
       "         [ 0,  0,  0],\n",
       "         [ 0,  0,  0]],\n",
       "\n",
       "        [[ 0,  0,  0],\n",
       "         [ 0,  0,  0],\n",
       "         [ 0,  0,  0]],\n",
       "\n",
       "        [[ 0,  0,  0],\n",
       "         [ 0,  0,  0],\n",
       "         [ 0,  0,  0]]],\n",
       "\n",
       "\n",
       "       [[[ 0,  0,  0],\n",
       "         [ 0,  0,  0],\n",
       "         [ 0,  0,  0]],\n",
       "\n",
       "        [[ 0,  0,  0],\n",
       "         [ 0,  1,  2],\n",
       "         [ 0,  2,  4]],\n",
       "\n",
       "        [[ 0,  0,  0],\n",
       "         [ 0,  2,  4],\n",
       "         [ 0,  4,  8]]],\n",
       "\n",
       "\n",
       "       [[[ 0,  0,  0],\n",
       "         [ 0,  0,  0],\n",
       "         [ 0,  0,  0]],\n",
       "\n",
       "        [[ 0,  0,  0],\n",
       "         [ 0,  2,  4],\n",
       "         [ 0,  4,  8]],\n",
       "\n",
       "        [[ 0,  0,  0],\n",
       "         [ 0,  4,  8],\n",
       "         [ 0,  8, 16]]]])"
      ]
     },
     "execution_count": 45,
     "metadata": {},
     "output_type": "execute_result"
    }
   ],
   "source": [
    "np.fromfunction(lambda i,j,k,l: i*j*k*l, (3, 3,3,3), dtype=int)"
   ]
  },
  {
   "cell_type": "markdown",
   "id": "4b4f7aed",
   "metadata": {},
   "source": [
    "(3, 3,3,3) basically means that we have (3,3,3) matrics 3 times."
   ]
  },
  {
   "cell_type": "code",
   "execution_count": 46,
   "id": "661ae1cc",
   "metadata": {},
   "outputs": [
    {
     "data": {
      "text/plain": [
       "array([[[[ 0,  0,  0],\n",
       "         [ 0,  0,  0],\n",
       "         [ 0,  0,  0]],\n",
       "\n",
       "        [[ 0,  0,  0],\n",
       "         [ 0,  0,  0],\n",
       "         [ 0,  0,  0]],\n",
       "\n",
       "        [[ 0,  0,  0],\n",
       "         [ 0,  0,  0],\n",
       "         [ 0,  0,  0]]],\n",
       "\n",
       "\n",
       "       [[[ 0,  0,  0],\n",
       "         [ 0,  0,  0],\n",
       "         [ 0,  0,  0]],\n",
       "\n",
       "        [[ 0,  0,  0],\n",
       "         [ 0,  1,  2],\n",
       "         [ 0,  2,  4]],\n",
       "\n",
       "        [[ 0,  0,  0],\n",
       "         [ 0,  2,  4],\n",
       "         [ 0,  4,  8]]],\n",
       "\n",
       "\n",
       "       [[[ 0,  0,  0],\n",
       "         [ 0,  0,  0],\n",
       "         [ 0,  0,  0]],\n",
       "\n",
       "        [[ 0,  0,  0],\n",
       "         [ 0,  2,  4],\n",
       "         [ 0,  4,  8]],\n",
       "\n",
       "        [[ 0,  0,  0],\n",
       "         [ 0,  4,  8],\n",
       "         [ 0,  8, 16]]],\n",
       "\n",
       "\n",
       "       [[[ 0,  0,  0],\n",
       "         [ 0,  0,  0],\n",
       "         [ 0,  0,  0]],\n",
       "\n",
       "        [[ 0,  0,  0],\n",
       "         [ 0,  3,  6],\n",
       "         [ 0,  6, 12]],\n",
       "\n",
       "        [[ 0,  0,  0],\n",
       "         [ 0,  6, 12],\n",
       "         [ 0, 12, 24]]],\n",
       "\n",
       "\n",
       "       [[[ 0,  0,  0],\n",
       "         [ 0,  0,  0],\n",
       "         [ 0,  0,  0]],\n",
       "\n",
       "        [[ 0,  0,  0],\n",
       "         [ 0,  4,  8],\n",
       "         [ 0,  8, 16]],\n",
       "\n",
       "        [[ 0,  0,  0],\n",
       "         [ 0,  8, 16],\n",
       "         [ 0, 16, 32]]],\n",
       "\n",
       "\n",
       "       [[[ 0,  0,  0],\n",
       "         [ 0,  0,  0],\n",
       "         [ 0,  0,  0]],\n",
       "\n",
       "        [[ 0,  0,  0],\n",
       "         [ 0,  5, 10],\n",
       "         [ 0, 10, 20]],\n",
       "\n",
       "        [[ 0,  0,  0],\n",
       "         [ 0, 10, 20],\n",
       "         [ 0, 20, 40]]],\n",
       "\n",
       "\n",
       "       [[[ 0,  0,  0],\n",
       "         [ 0,  0,  0],\n",
       "         [ 0,  0,  0]],\n",
       "\n",
       "        [[ 0,  0,  0],\n",
       "         [ 0,  6, 12],\n",
       "         [ 0, 12, 24]],\n",
       "\n",
       "        [[ 0,  0,  0],\n",
       "         [ 0, 12, 24],\n",
       "         [ 0, 24, 48]]],\n",
       "\n",
       "\n",
       "       [[[ 0,  0,  0],\n",
       "         [ 0,  0,  0],\n",
       "         [ 0,  0,  0]],\n",
       "\n",
       "        [[ 0,  0,  0],\n",
       "         [ 0,  7, 14],\n",
       "         [ 0, 14, 28]],\n",
       "\n",
       "        [[ 0,  0,  0],\n",
       "         [ 0, 14, 28],\n",
       "         [ 0, 28, 56]]],\n",
       "\n",
       "\n",
       "       [[[ 0,  0,  0],\n",
       "         [ 0,  0,  0],\n",
       "         [ 0,  0,  0]],\n",
       "\n",
       "        [[ 0,  0,  0],\n",
       "         [ 0,  8, 16],\n",
       "         [ 0, 16, 32]],\n",
       "\n",
       "        [[ 0,  0,  0],\n",
       "         [ 0, 16, 32],\n",
       "         [ 0, 32, 64]]],\n",
       "\n",
       "\n",
       "       [[[ 0,  0,  0],\n",
       "         [ 0,  0,  0],\n",
       "         [ 0,  0,  0]],\n",
       "\n",
       "        [[ 0,  0,  0],\n",
       "         [ 0,  9, 18],\n",
       "         [ 0, 18, 36]],\n",
       "\n",
       "        [[ 0,  0,  0],\n",
       "         [ 0, 18, 36],\n",
       "         [ 0, 36, 72]]]])"
      ]
     },
     "execution_count": 46,
     "metadata": {},
     "output_type": "execute_result"
    }
   ],
   "source": [
    "np.fromfunction(lambda i,j,k,l: i*j*k*l, (10, 3,3,3), dtype=int)"
   ]
  },
  {
   "cell_type": "markdown",
   "id": "7493832a",
   "metadata": {},
   "source": [
    "**similarly above we have (3,3,3) matrix 10 times**"
   ]
  },
  {
   "cell_type": "code",
   "execution_count": 47,
   "id": "439a9b4c",
   "metadata": {},
   "outputs": [
    {
     "data": {
      "text/plain": [
       "array([[[[0, 0, 0],\n",
       "         [0, 0, 0],\n",
       "         [0, 0, 0]],\n",
       "\n",
       "        [[0, 0, 0],\n",
       "         [0, 0, 0],\n",
       "         [0, 0, 0]],\n",
       "\n",
       "        [[0, 0, 0],\n",
       "         [0, 0, 0],\n",
       "         [0, 0, 0]]]])"
      ]
     },
     "execution_count": 47,
     "metadata": {},
     "output_type": "execute_result"
    }
   ],
   "source": [
    "np.fromfunction(lambda i,j,k,l: i*j*k*l, (1, 3,3,3), dtype=int)"
   ]
  },
  {
   "cell_type": "markdown",
   "id": "5340db72",
   "metadata": {},
   "source": [
    "here we have (3,3,3) data 1 times"
   ]
  },
  {
   "cell_type": "markdown",
   "id": "b35d6a8c",
   "metadata": {},
   "source": [
    "that initial value that we had which kept on change that went from 3 to 10 to 1 that value is our \n",
    "**dimensions**"
   ]
  },
  {
   "cell_type": "markdown",
   "id": "25744389",
   "metadata": {},
   "source": [
    "Below going to give me the output as an object of the generator"
   ]
  },
  {
   "cell_type": "code",
   "execution_count": 48,
   "id": "9477cb78",
   "metadata": {},
   "outputs": [
    {
     "data": {
      "text/plain": [
       "<generator object <genexpr> at 0x000001A4ECAA2500>"
      ]
     },
     "execution_count": 48,
     "metadata": {},
     "output_type": "execute_result"
    }
   ],
   "source": [
    "iterables = (x*x for x in range(5))\n",
    "iterables"
   ]
  },
  {
   "cell_type": "markdown",
   "id": "40657b1e",
   "metadata": {},
   "source": [
    "### np.fromiter(variable, dtype)"
   ]
  },
  {
   "cell_type": "code",
   "execution_count": 49,
   "id": "09314710",
   "metadata": {},
   "outputs": [
    {
     "data": {
      "text/plain": [
       "array([ 0.,  1.,  4.,  9., 16.])"
      ]
     },
     "execution_count": 49,
     "metadata": {},
     "output_type": "execute_result"
    }
   ],
   "source": [
    "np.fromiter(iterables, float)"
   ]
  },
  {
   "cell_type": "code",
   "execution_count": 50,
   "id": "3be7042e",
   "metadata": {},
   "outputs": [],
   "source": [
    "# what we have above can be performed on list as well"
   ]
  },
  {
   "cell_type": "markdown",
   "id": "9c9f73c0",
   "metadata": {},
   "source": [
    "### np.fromstring(\"Some String\", sep = \" \")"
   ]
  },
  {
   "cell_type": "markdown",
   "id": "dc11655c",
   "metadata": {},
   "source": [
    " ###  ***sep*** stands for  ***saperator*** so our string got separated based on the separater argument we provided"
   ]
  },
  {
   "cell_type": "code",
   "execution_count": 51,
   "id": "387edfb7",
   "metadata": {},
   "outputs": [
    {
     "data": {
      "text/plain": [
       "array([234., 234.])"
      ]
     },
     "execution_count": 51,
     "metadata": {},
     "output_type": "execute_result"
    }
   ],
   "source": [
    "a = np.fromstring('234 234', sep=\" \")\n",
    "a"
   ]
  },
  {
   "cell_type": "code",
   "execution_count": 52,
   "id": "b9060b30",
   "metadata": {},
   "outputs": [
    {
     "data": {
      "text/plain": [
       "array([1., 2.])"
      ]
     },
     "execution_count": 52,
     "metadata": {},
     "output_type": "execute_result"
    }
   ],
   "source": [
    "# Another Example\n",
    "np.fromstring('1,2', sep = ',')"
   ]
  },
  {
   "cell_type": "markdown",
   "id": "c983d99d",
   "metadata": {},
   "source": [
    "**How to create a record array from a (flat) list arrays**"
   ]
  },
  {
   "cell_type": "code",
   "execution_count": 53,
   "id": "45b23748",
   "metadata": {},
   "outputs": [],
   "source": [
    "x1 = np.array([1,2,3,4])"
   ]
  },
  {
   "cell_type": "code",
   "execution_count": 54,
   "id": "46c6b5a5",
   "metadata": {},
   "outputs": [],
   "source": [
    "x2 = np.array(['rr','sfdf','fd','re'])"
   ]
  },
  {
   "cell_type": "code",
   "execution_count": 55,
   "id": "fc14be71",
   "metadata": {},
   "outputs": [
    {
     "data": {
      "text/plain": [
       "numpy.ndarray"
      ]
     },
     "execution_count": 55,
     "metadata": {},
     "output_type": "execute_result"
    }
   ],
   "source": [
    "x3 = np.array([1.1,2,3,4])\n",
    "x4 = np.array([1.1,2,3,4])\n",
    "type(x4)"
   ]
  },
  {
   "cell_type": "code",
   "execution_count": 56,
   "id": "cb0730ff",
   "metadata": {},
   "outputs": [
    {
     "data": {
      "text/plain": [
       "rec.array([(1, 'rr', 1.1, 1.1), (2, 'sfdf', 2. , 2. ),\n",
       "           (3, 'fd', 3. , 3. ), (4, 're', 4. , 4. )],\n",
       "          dtype=[('a', '<i4'), ('b', '<U4'), ('c', '<f8'), ('d', '<f8')])"
      ]
     },
     "execution_count": 56,
     "metadata": {},
     "output_type": "execute_result"
    }
   ],
   "source": [
    "r = np.core.records.fromarrays([x1,x2,x3,x4], names='a,b,c,d')\n",
    "r"
   ]
  },
  {
   "cell_type": "markdown",
   "id": "237769a1",
   "metadata": {},
   "source": [
    "so above function basically created this tuple where our values are like (x1,x2,x3,x4) "
   ]
  },
  {
   "cell_type": "code",
   "execution_count": 57,
   "id": "67e59495",
   "metadata": {},
   "outputs": [
    {
     "data": {
      "text/plain": [
       "(2, 'sfdf', 2., 2.)"
      ]
     },
     "execution_count": 57,
     "metadata": {},
     "output_type": "execute_result"
    }
   ],
   "source": [
    "r[1]"
   ]
  },
  {
   "cell_type": "code",
   "execution_count": 58,
   "id": "1e38082b",
   "metadata": {},
   "outputs": [
    {
     "data": {
      "text/plain": [
       "'sfdf'"
      ]
     },
     "execution_count": 58,
     "metadata": {},
     "output_type": "execute_result"
    }
   ],
   "source": [
    "r[1]['b']"
   ]
  },
  {
   "cell_type": "code",
   "execution_count": 59,
   "id": "460353f4",
   "metadata": {},
   "outputs": [
    {
     "data": {
      "text/plain": [
       "2"
      ]
     },
     "execution_count": 59,
     "metadata": {},
     "output_type": "execute_result"
    }
   ],
   "source": [
    "r[1]['a']"
   ]
  },
  {
   "cell_type": "markdown",
   "id": "7a53f24f",
   "metadata": {},
   "source": [
    "# data type"
   ]
  },
  {
   "cell_type": "code",
   "execution_count": 60,
   "id": "429c81cd",
   "metadata": {},
   "outputs": [],
   "source": [
    "my_list = [1,2,3]\n",
    "arr = np.array(my_list)"
   ]
  },
  {
   "cell_type": "code",
   "execution_count": 61,
   "id": "c3a44989",
   "metadata": {},
   "outputs": [
    {
     "data": {
      "text/plain": [
       "array([1, 2, 3])"
      ]
     },
     "execution_count": 61,
     "metadata": {},
     "output_type": "execute_result"
    }
   ],
   "source": [
    "arr"
   ]
  },
  {
   "cell_type": "code",
   "execution_count": 62,
   "id": "2ed37de7",
   "metadata": {},
   "outputs": [
    {
     "data": {
      "text/plain": [
       "numpy.ndarray"
      ]
     },
     "execution_count": 62,
     "metadata": {},
     "output_type": "execute_result"
    }
   ],
   "source": [
    "type(arr)"
   ]
  },
  {
   "cell_type": "code",
   "execution_count": 63,
   "id": "59854776",
   "metadata": {},
   "outputs": [
    {
     "name": "stdout",
     "output_type": "stream",
     "text": [
      "Type of this matrix is :<class 'numpy.ndarray'>\n",
      "Here is the martic: [[1 2 3]\n",
      " [4 5 6]\n",
      " [7 8 9]]\n",
      "Dimension of this metrix is :2\n",
      "Size of this metrix9\n",
      "Shape of the metrix:(3, 3)\n",
      "Data type of this metrix:int32\n"
     ]
    }
   ],
   "source": [
    "my_mat = [[1,2,3],[4,5,6],[7,8,9]]\n",
    "mat  = np.array(my_mat)\n",
    "print(f\"Type of this matrix is :{type(mat)}\")\n",
    "print(f\"Here is the martic: {mat}\")\n",
    "print(\"Dimension of this metrix is :\", mat.ndim, sep='') #dimension of the array is a 2-D array\n",
    "print(\"Size of this metrix\", mat.size, sep='') # Size gives the total number of elements\n",
    "print(\"Shape of the metrix:\", mat.shape, sep='') #Number of elements along each axes\n",
    "print(\"Data type of this metrix:\", mat.dtype, sep='') #dtype gives the data type contained in the array"
   ]
  },
  {
   "cell_type": "markdown",
   "id": "e0bbf63e",
   "metadata": {},
   "source": [
    "we use these to debug our code which we will need plenty in deep learning"
   ]
  },
  {
   "cell_type": "code",
   "execution_count": 64,
   "id": "a2655629",
   "metadata": {},
   "outputs": [
    {
     "name": "stdout",
     "output_type": "stream",
     "text": [
      "Data type of the modified matrix: float64\n",
      "\n",
      "\n",
      " Even tuples can be converted to ndarrays...\n"
     ]
    }
   ],
   "source": [
    "my_mat = [[1.1,2,3],[4,5.5,6],[7,8.8,9]]\n",
    "mat = np.array(my_mat)\n",
    "print(\"Data type of the modified matrix: \", mat.dtype, sep='')\n",
    "print(\"\\n\\n Even tuples can be converted to ndarrays...\")"
   ]
  },
  {
   "cell_type": "code",
   "execution_count": 65,
   "id": "c6928038",
   "metadata": {},
   "outputs": [
    {
     "name": "stdout",
     "output_type": "stream",
     "text": [
      "this matrix is made from tuple not a list\n",
      "[[1.  1.5 6. ]\n",
      " [2.  6.  9. ]]\n"
     ]
    }
   ],
   "source": [
    "b = np.array([(1,1.5,6), (2,6,9)])\n",
    "print(\"this matrix is made from tuple not a list\")\n",
    "print(b)"
   ]
  },
  {
   "cell_type": "markdown",
   "id": "2420c093",
   "metadata": {},
   "source": [
    "# arange"
   ]
  },
  {
   "cell_type": "code",
   "execution_count": 66,
   "id": "1b32caba",
   "metadata": {},
   "outputs": [
    {
     "data": {
      "text/plain": [
       "[5,\n",
       " 7,\n",
       " 9,\n",
       " 11,\n",
       " 13,\n",
       " 15,\n",
       " 17,\n",
       " 19,\n",
       " 21,\n",
       " 23,\n",
       " 25,\n",
       " 27,\n",
       " 29,\n",
       " 31,\n",
       " 33,\n",
       " 35,\n",
       " 37,\n",
       " 39,\n",
       " 41,\n",
       " 43,\n",
       " 45,\n",
       " 47,\n",
       " 49]"
      ]
     },
     "execution_count": 66,
     "metadata": {},
     "output_type": "execute_result"
    }
   ],
   "source": [
    "# in python this is how range worked\n",
    "list(range(5,50,2))"
   ]
  },
  {
   "cell_type": "code",
   "execution_count": 67,
   "id": "1bcdf3ec",
   "metadata": {},
   "outputs": [
    {
     "ename": "TypeError",
     "evalue": "'float' object cannot be interpreted as an integer",
     "output_type": "error",
     "traceback": [
      "\u001b[1;31m---------------------------------------------------------------------------\u001b[0m",
      "\u001b[1;31mTypeError\u001b[0m                                 Traceback (most recent call last)",
      "Cell \u001b[1;32mIn[67], line 2\u001b[0m\n\u001b[0;32m      1\u001b[0m \u001b[38;5;66;03m# We cant pass a float in python range\u001b[39;00m\n\u001b[1;32m----> 2\u001b[0m \u001b[38;5;28mlist\u001b[39m(\u001b[38;5;28;43mrange\u001b[39;49m\u001b[43m(\u001b[49m\u001b[38;5;241;43m4\u001b[39;49m\u001b[43m,\u001b[49m\u001b[38;5;241;43m40\u001b[39;49m\u001b[43m,\u001b[49m\u001b[38;5;241;43m2.2\u001b[39;49m\u001b[43m)\u001b[49m)\n",
      "\u001b[1;31mTypeError\u001b[0m: 'float' object cannot be interpreted as an integer"
     ]
    }
   ],
   "source": [
    "# We cant pass a float in python range\n",
    "list(range(4,40,2.2))"
   ]
  },
  {
   "cell_type": "code",
   "execution_count": 68,
   "id": "025cdc16",
   "metadata": {},
   "outputs": [
    {
     "data": {
      "text/plain": [
       "array([ 5,  7,  9, 11, 13, 15])"
      ]
     },
     "execution_count": 68,
     "metadata": {},
     "output_type": "execute_result"
    }
   ],
   "source": [
    "# For numpy\n",
    "np.arange(5,16,2)"
   ]
  },
  {
   "cell_type": "code",
   "execution_count": 69,
   "id": "8c8576c1",
   "metadata": {},
   "outputs": [
    {
     "data": {
      "text/plain": [
       "array([ 5. ,  5.8,  6.6,  7.4,  8.2,  9. ,  9.8, 10.6, 11.4, 12.2, 13. ,\n",
       "       13.8, 14.6])"
      ]
     },
     "execution_count": 69,
     "metadata": {},
     "output_type": "execute_result"
    }
   ],
   "source": [
    "# But numpy works for float values as well\n",
    "np.arange(5,15,0.8) # 0.8 was a step"
   ]
  },
  {
   "cell_type": "markdown",
   "id": "ae48963d",
   "metadata": {},
   "source": [
    "***This is the only difference between python range() and numpy arange()***"
   ]
  },
  {
   "cell_type": "code",
   "execution_count": 70,
   "id": "b2a456f1",
   "metadata": {},
   "outputs": [
    {
     "name": "stdout",
     "output_type": "stream",
     "text": [
      "Every 5th number from 50 in reverse order\n",
      " [50 45 40 35 30 25 20 15 10  5  0]\n"
     ]
    }
   ],
   "source": [
    " # We will do one for negative values as well\n",
    "print(\"Every 5th number from 50 in reverse order\\n\", np.arange(50,-1,-5))"
   ]
  },
  {
   "cell_type": "markdown",
   "id": "9c74752e",
   "metadata": {},
   "source": [
    "# linspace"
   ]
  },
  {
   "cell_type": "code",
   "execution_count": 71,
   "id": "fd9d2337",
   "metadata": {},
   "outputs": [
    {
     "name": "stdout",
     "output_type": "stream",
     "text": [
      "[1.         1.08163265 1.16326531 1.24489796 1.32653061 1.40816327\n",
      " 1.48979592 1.57142857 1.65306122 1.73469388 1.81632653 1.89795918\n",
      " 1.97959184 2.06122449 2.14285714 2.2244898  2.30612245 2.3877551\n",
      " 2.46938776 2.55102041 2.63265306 2.71428571 2.79591837 2.87755102\n",
      " 2.95918367 3.04081633 3.12244898 3.20408163 3.28571429 3.36734694\n",
      " 3.44897959 3.53061224 3.6122449  3.69387755 3.7755102  3.85714286\n",
      " 3.93877551 4.02040816 4.10204082 4.18367347 4.26530612 4.34693878\n",
      " 4.42857143 4.51020408 4.59183673 4.67346939 4.75510204 4.83673469\n",
      " 4.91836735 5.        ]\n"
     ]
    }
   ],
   "source": [
    "print((np.linspace(1,5,50))) # Here 50 is the number of the it will generate in between starting point and end point"
   ]
  },
  {
   "cell_type": "markdown",
   "id": "e7d676b4",
   "metadata": {},
   "source": [
    "print((np.linspace(1,5,50))) Remember here 50 is not a step size, but the difference between anytwo number in that list is same"
   ]
  },
  {
   "cell_type": "code",
   "execution_count": 72,
   "id": "7634f030",
   "metadata": {},
   "outputs": [
    {
     "name": "stdout",
     "output_type": "stream",
     "text": [
      "[1.   1.08 1.16 1.24 1.32 1.4  1.48 1.56 1.64 1.72 1.8  1.88 1.96 2.04\n",
      " 2.12 2.2  2.28 2.36 2.44 2.52 2.6  2.68 2.76 2.84 2.92 3.   3.08 3.16\n",
      " 3.24 3.32 3.4  3.48 3.56 3.64 3.72 3.8  3.88 3.96 4.04 4.12 4.2  4.28\n",
      " 4.36 4.44 4.52 4.6  4.68 4.76 4.84 4.92]\n"
     ]
    }
   ],
   "source": [
    "print((np.linspace(1,5,50, endpoint=False))) # This time the function is not ending on 5 like it did previously because of end point"
   ]
  },
  {
   "cell_type": "code",
   "execution_count": 73,
   "id": "84e4fa8c",
   "metadata": {},
   "outputs": [
    {
     "data": {
      "text/plain": [
       "array([2.  , 2.25, 2.5 , 2.75, 3.  ])"
      ]
     },
     "execution_count": 73,
     "metadata": {},
     "output_type": "execute_result"
    }
   ],
   "source": [
    "np.linspace(2.0, 3.0, num=5) # num=5 says that in output i want 5 elements"
   ]
  },
  {
   "cell_type": "code",
   "execution_count": 74,
   "id": "bc35895f",
   "metadata": {},
   "outputs": [
    {
     "data": {
      "text/plain": [
       "array([2. , 2.2, 2.4, 2.6, 2.8])"
      ]
     },
     "execution_count": 74,
     "metadata": {},
     "output_type": "execute_result"
    }
   ],
   "source": [
    "np.linspace(2.0, 3.0, num=5, endpoint=False) # I wont get the end value in this case"
   ]
  },
  {
   "cell_type": "code",
   "execution_count": 75,
   "id": "a5faaf8b",
   "metadata": {},
   "outputs": [
    {
     "data": {
      "text/plain": [
       "(array([2.  , 2.25, 2.5 , 2.75, 3.  ]), 0.25)"
      ]
     },
     "execution_count": 75,
     "metadata": {},
     "output_type": "execute_result"
    }
   ],
   "source": [
    "np.linspace(2.0, 3.0, num=5, retstep=True) # retstep prints the number of steps it has taken between two values"
   ]
  },
  {
   "cell_type": "markdown",
   "id": "07945248",
   "metadata": {},
   "source": [
    "# Logspace\n",
    "* **By default the base would be 10**"
   ]
  },
  {
   "cell_type": "code",
   "execution_count": 76,
   "id": "f88dba7e",
   "metadata": {},
   "outputs": [
    {
     "data": {
      "text/plain": [
       "array([ 100.        ,  215.443469  ,  464.15888336, 1000.        ])"
      ]
     },
     "execution_count": 76,
     "metadata": {},
     "output_type": "execute_result"
    }
   ],
   "source": [
    "np.logspace(2.0, 3.0, num=4, base=10) # This gives us logrithmic differences"
   ]
  },
  {
   "cell_type": "code",
   "execution_count": 77,
   "id": "ed0d49cb",
   "metadata": {},
   "outputs": [
    {
     "data": {
      "text/plain": [
       "array([100.        , 177.827941  , 316.22776602, 562.34132519])"
      ]
     },
     "execution_count": 77,
     "metadata": {},
     "output_type": "execute_result"
    }
   ],
   "source": [
    "np.logspace(2.0, 3.0, num=4, endpoint=False) # end number wont be their"
   ]
  },
  {
   "cell_type": "markdown",
   "id": "710f4cee",
   "metadata": {},
   "source": [
    "# Matrix creation"
   ]
  },
  {
   "cell_type": "code",
   "execution_count": 78,
   "id": "6aa942f3",
   "metadata": {},
   "outputs": [
    {
     "name": "stdout",
     "output_type": "stream",
     "text": [
      "[[0. 0. 0. 0.]\n",
      " [0. 0. 0. 0.]\n",
      " [0. 0. 0. 0.]]\n"
     ]
    }
   ],
   "source": [
    "print(np.zeros((3,4))) # 3 rows and 4 columns"
   ]
  },
  {
   "cell_type": "code",
   "execution_count": 79,
   "id": "ea5f272d",
   "metadata": {},
   "outputs": [
    {
     "data": {
      "text/plain": [
       "array([1., 1., 1., 1., 1.])"
      ]
     },
     "execution_count": 79,
     "metadata": {},
     "output_type": "execute_result"
    }
   ],
   "source": [
    "np.ones(5)"
   ]
  },
  {
   "cell_type": "code",
   "execution_count": 80,
   "id": "ec826704",
   "metadata": {},
   "outputs": [
    {
     "data": {
      "text/plain": [
       "array([[1., 1., 1., 1.],\n",
       "       [1., 1., 1., 1.],\n",
       "       [1., 1., 1., 1.]])"
      ]
     },
     "execution_count": 80,
     "metadata": {},
     "output_type": "execute_result"
    }
   ],
   "source": [
    "np.ones((3,4))"
   ]
  },
  {
   "cell_type": "code",
   "execution_count": 81,
   "id": "58670e71",
   "metadata": {},
   "outputs": [
    {
     "data": {
      "text/plain": [
       "array([[[1., 1., 1., 1., 1.],\n",
       "        [1., 1., 1., 1., 1.],\n",
       "        [1., 1., 1., 1., 1.],\n",
       "        [1., 1., 1., 1., 1.]],\n",
       "\n",
       "       [[1., 1., 1., 1., 1.],\n",
       "        [1., 1., 1., 1., 1.],\n",
       "        [1., 1., 1., 1., 1.],\n",
       "        [1., 1., 1., 1., 1.]],\n",
       "\n",
       "       [[1., 1., 1., 1., 1.],\n",
       "        [1., 1., 1., 1., 1.],\n",
       "        [1., 1., 1., 1., 1.],\n",
       "        [1., 1., 1., 1., 1.]]])"
      ]
     },
     "execution_count": 81,
     "metadata": {},
     "output_type": "execute_result"
    }
   ],
   "source": [
    "np.ones((3,4,5)) # here we have 3 (4,5) dimensional array"
   ]
  },
  {
   "cell_type": "code",
   "execution_count": 82,
   "id": "227b12bf",
   "metadata": {},
   "outputs": [
    {
     "name": "stdout",
     "output_type": "stream",
     "text": [
      "[[6. 6. 6. 6. 6.]\n",
      " [6. 6. 6. 6. 6.]\n",
      " [6. 6. 6. 6. 6.]]\n"
     ]
    }
   ],
   "source": [
    "print(5+np.ones((3,5))) # 5 got added on every value of 1"
   ]
  },
  {
   "cell_type": "code",
   "execution_count": 83,
   "id": "7418d5f8",
   "metadata": {},
   "outputs": [
    {
     "data": {
      "text/plain": [
       "array([[6., 6., 6., 6., 6.],\n",
       "       [6., 6., 6., 6., 6.],\n",
       "       [6., 6., 6., 6., 6.]])"
      ]
     },
     "execution_count": 83,
     "metadata": {},
     "output_type": "execute_result"
    }
   ],
   "source": [
    "np.empty((3,5)) #it gives previous array but if i restart my kernal it will give me any random value"
   ]
  },
  {
   "cell_type": "markdown",
   "id": "e6aa374e",
   "metadata": {},
   "source": [
    "The above line i wrote is before restarting my kernal next will be after restarting my kernal"
   ]
  },
  {
   "cell_type": "code",
   "execution_count": 84,
   "id": "0875bb31",
   "metadata": {},
   "outputs": [
    {
     "data": {
      "text/plain": [
       "array([[6., 6., 6., 6., 6.],\n",
       "       [6., 6., 6., 6., 6.],\n",
       "       [6., 6., 6., 6., 6.]])"
      ]
     },
     "execution_count": 84,
     "metadata": {},
     "output_type": "execute_result"
    }
   ],
   "source": [
    "import numpy as np\n",
    "np.empty((3,5))"
   ]
  },
  {
   "cell_type": "code",
   "execution_count": 85,
   "id": "0fdbb42d",
   "metadata": {},
   "outputs": [
    {
     "data": {
      "text/plain": [
       "array([[1., 0., 0., 0.],\n",
       "       [0., 1., 0., 0.],\n",
       "       [0., 0., 1., 0.],\n",
       "       [0., 0., 0., 1.]])"
      ]
     },
     "execution_count": 85,
     "metadata": {},
     "output_type": "execute_result"
    }
   ],
   "source": [
    "# Identity Matrices\n",
    "mat1 = np.eye(4)\n",
    "mat1"
   ]
  },
  {
   "cell_type": "markdown",
   "id": "2de0744f",
   "metadata": {},
   "source": [
    "**Identity metrixes will always be a square**"
   ]
  },
  {
   "cell_type": "markdown",
   "id": "fea52ff7",
   "metadata": {},
   "source": [
    "Scalar in numpy is the data without the dimension while vector is the data with dimensions"
   ]
  },
  {
   "cell_type": "markdown",
   "id": "c0a299d5",
   "metadata": {},
   "source": [
    "Extract a diagonal or construct a diagonal array"
   ]
  },
  {
   "cell_type": "code",
   "execution_count": 88,
   "id": "464d7a83",
   "metadata": {},
   "outputs": [],
   "source": [
    "x = np.arange(16).reshape((-1,4))"
   ]
  },
  {
   "cell_type": "code",
   "execution_count": 89,
   "id": "ff971cf2",
   "metadata": {},
   "outputs": [
    {
     "data": {
      "text/plain": [
       "array([[ 0,  1,  2,  3],\n",
       "       [ 4,  5,  6,  7],\n",
       "       [ 8,  9, 10, 11],\n",
       "       [12, 13, 14, 15]])"
      ]
     },
     "execution_count": 89,
     "metadata": {},
     "output_type": "execute_result"
    }
   ],
   "source": [
    "x"
   ]
  },
  {
   "cell_type": "markdown",
   "id": "7e2ead51",
   "metadata": {},
   "source": [
    "# Problems\n",
    "\n",
    "* Create a (3,4,8) array with all ones and perform addition operation of 5 and than multiplication operation with 2? \n",
    "* Do the same thing with zeros.\n",
    "* Generate 80 data between 4 to 8.\n",
    "* Take a list and convert those list in metrixes\n",
    "* Create an array of size (4x5x2) show me the dimesnion shape and data type of that array.\n",
    "* Take two array both of (3,3,3) and add them.\n",
    "\n"
   ]
  },
  {
   "cell_type": "code",
   "execution_count": 130,
   "id": "4bcda285",
   "metadata": {},
   "outputs": [
    {
     "data": {
      "text/plain": [
       "array([[[12., 12., 12., 12., 12., 12., 12., 12.],\n",
       "        [12., 12., 12., 12., 12., 12., 12., 12.],\n",
       "        [12., 12., 12., 12., 12., 12., 12., 12.],\n",
       "        [12., 12., 12., 12., 12., 12., 12., 12.]],\n",
       "\n",
       "       [[12., 12., 12., 12., 12., 12., 12., 12.],\n",
       "        [12., 12., 12., 12., 12., 12., 12., 12.],\n",
       "        [12., 12., 12., 12., 12., 12., 12., 12.],\n",
       "        [12., 12., 12., 12., 12., 12., 12., 12.]],\n",
       "\n",
       "       [[12., 12., 12., 12., 12., 12., 12., 12.],\n",
       "        [12., 12., 12., 12., 12., 12., 12., 12.],\n",
       "        [12., 12., 12., 12., 12., 12., 12., 12.],\n",
       "        [12., 12., 12., 12., 12., 12., 12., 12.]]])"
      ]
     },
     "execution_count": 130,
     "metadata": {},
     "output_type": "execute_result"
    }
   ],
   "source": [
    "a = (np.ones((3,4,8)) +5)*2\n",
    "a"
   ]
  },
  {
   "cell_type": "code",
   "execution_count": 132,
   "id": "5ff23494",
   "metadata": {},
   "outputs": [
    {
     "data": {
      "text/plain": [
       "array([[[10., 10., 10., 10., 10., 10., 10., 10.],\n",
       "        [10., 10., 10., 10., 10., 10., 10., 10.],\n",
       "        [10., 10., 10., 10., 10., 10., 10., 10.],\n",
       "        [10., 10., 10., 10., 10., 10., 10., 10.]],\n",
       "\n",
       "       [[10., 10., 10., 10., 10., 10., 10., 10.],\n",
       "        [10., 10., 10., 10., 10., 10., 10., 10.],\n",
       "        [10., 10., 10., 10., 10., 10., 10., 10.],\n",
       "        [10., 10., 10., 10., 10., 10., 10., 10.]],\n",
       "\n",
       "       [[10., 10., 10., 10., 10., 10., 10., 10.],\n",
       "        [10., 10., 10., 10., 10., 10., 10., 10.],\n",
       "        [10., 10., 10., 10., 10., 10., 10., 10.],\n",
       "        [10., 10., 10., 10., 10., 10., 10., 10.]]])"
      ]
     },
     "execution_count": 132,
     "metadata": {},
     "output_type": "execute_result"
    }
   ],
   "source": [
    "# Similarly for zeros\n",
    "a = (np.zeros((3,4,8))+5)*2\n",
    "a"
   ]
  },
  {
   "cell_type": "code",
   "execution_count": 133,
   "id": "f7bcae07",
   "metadata": {},
   "outputs": [
    {
     "data": {
      "text/plain": [
       "array([4.  , 4.05, 4.1 , 4.15, 4.2 , 4.25, 4.3 , 4.35, 4.4 , 4.45, 4.5 ,\n",
       "       4.55, 4.6 , 4.65, 4.7 , 4.75, 4.8 , 4.85, 4.9 , 4.95, 5.  , 5.05,\n",
       "       5.1 , 5.15, 5.2 , 5.25, 5.3 , 5.35, 5.4 , 5.45, 5.5 , 5.55, 5.6 ,\n",
       "       5.65, 5.7 , 5.75, 5.8 , 5.85, 5.9 , 5.95, 6.  , 6.05, 6.1 , 6.15,\n",
       "       6.2 , 6.25, 6.3 , 6.35, 6.4 , 6.45, 6.5 , 6.55, 6.6 , 6.65, 6.7 ,\n",
       "       6.75, 6.8 , 6.85, 6.9 , 6.95, 7.  , 7.05, 7.1 , 7.15, 7.2 , 7.25,\n",
       "       7.3 , 7.35, 7.4 , 7.45, 7.5 , 7.55, 7.6 , 7.65, 7.7 , 7.75, 7.8 ,\n",
       "       7.85, 7.9 , 7.95])"
      ]
     },
     "execution_count": 133,
     "metadata": {},
     "output_type": "execute_result"
    }
   ],
   "source": [
    "# Generate 80 data between 4 to 8.\n",
    "a = np.linspace(4,8,80, endpoint = False)\n",
    "a"
   ]
  },
  {
   "cell_type": "code",
   "execution_count": 106,
   "id": "753bff27",
   "metadata": {},
   "outputs": [],
   "source": [
    "# Take a list and convert those list in metrixes\n",
    "a = [[2,3,4], [5,6,7], [8,9,10]]\n",
    "b = np.array(a)"
   ]
  },
  {
   "cell_type": "code",
   "execution_count": 107,
   "id": "9f8eceb7",
   "metadata": {},
   "outputs": [
    {
     "data": {
      "text/plain": [
       "array([[ 2,  3,  4],\n",
       "       [ 5,  6,  7],\n",
       "       [ 8,  9, 10]])"
      ]
     },
     "execution_count": 107,
     "metadata": {},
     "output_type": "execute_result"
    }
   ],
   "source": [
    "b"
   ]
  },
  {
   "cell_type": "code",
   "execution_count": 134,
   "id": "28020062",
   "metadata": {},
   "outputs": [
    {
     "name": "stdout",
     "output_type": "stream",
     "text": [
      " data type is <class 'numpy.ndarray'> and size is 40 and dimension is 3 and shape is (4, 5, 2)\n"
     ]
    }
   ],
   "source": [
    "# Create an array of size (4x5x2) show me the dimesnion shape and data type of that array.\n",
    "a = np.ones((4,5,2))\n",
    "print(f\" data type is {type(a)} and size is {a.size} and dimension is {a.ndim} and shape is {a.shape}\")"
   ]
  },
  {
   "cell_type": "code",
   "execution_count": 126,
   "id": "d7d7dcae",
   "metadata": {},
   "outputs": [
    {
     "data": {
      "text/plain": [
       "array([[[1., 1., 1.],\n",
       "        [1., 1., 1.],\n",
       "        [1., 1., 1.]],\n",
       "\n",
       "       [[1., 1., 1.],\n",
       "        [1., 1., 1.],\n",
       "        [1., 1., 1.]],\n",
       "\n",
       "       [[1., 1., 1.],\n",
       "        [1., 1., 1.],\n",
       "        [1., 1., 1.]]])"
      ]
     },
     "execution_count": 126,
     "metadata": {},
     "output_type": "execute_result"
    }
   ],
   "source": [
    "# Take two array both of (3,3,3) and add them.\n",
    "a = np.ones((3,3,3))\n",
    "a"
   ]
  },
  {
   "cell_type": "code",
   "execution_count": 127,
   "id": "ba615b35",
   "metadata": {},
   "outputs": [
    {
     "data": {
      "text/plain": [
       "array([[[2., 2., 2.],\n",
       "        [2., 2., 2.],\n",
       "        [2., 2., 2.]],\n",
       "\n",
       "       [[2., 2., 2.],\n",
       "        [2., 2., 2.],\n",
       "        [2., 2., 2.]],\n",
       "\n",
       "       [[2., 2., 2.],\n",
       "        [2., 2., 2.],\n",
       "        [2., 2., 2.]]])"
      ]
     },
     "execution_count": 127,
     "metadata": {},
     "output_type": "execute_result"
    }
   ],
   "source": [
    "b = np.empty((3,3,3),float)\n",
    "a+b"
   ]
  },
  {
   "cell_type": "code",
   "execution_count": null,
   "id": "ec56024a",
   "metadata": {},
   "outputs": [],
   "source": [
    " "
   ]
  }
 ],
 "metadata": {
  "kernelspec": {
   "display_name": "Python 3 (ipykernel)",
   "language": "python",
   "name": "python3"
  },
  "language_info": {
   "codemirror_mode": {
    "name": "ipython",
    "version": 3
   },
   "file_extension": ".py",
   "mimetype": "text/x-python",
   "name": "python",
   "nbconvert_exporter": "python",
   "pygments_lexer": "ipython3",
   "version": "3.10.9"
  }
 },
 "nbformat": 4,
 "nbformat_minor": 5
}
